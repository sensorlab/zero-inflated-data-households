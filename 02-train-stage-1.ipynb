{
 "cells": [
  {
   "cell_type": "code",
   "execution_count": 1,
   "id": "dba1d9d4-3f41-46bd-8565-a86d3011c331",
   "metadata": {},
   "outputs": [],
   "source": [
    "!mamba install xgboost=1.7.6 -c anaconda -y -q"
   ]
  },
  {
   "cell_type": "code",
   "execution_count": 5,
   "id": "d50991ea-a777-4d12-8a36-a5189e0c9ead",
   "metadata": {},
   "outputs": [],
   "source": [
    "SEED = 42\n",
    "DATASET_PATH = './ukdale-processed.h5'"
   ]
  },
  {
   "cell_type": "code",
   "execution_count": 6,
   "id": "583e1217-bc38-4a7b-a50c-4bbaa76494f1",
   "metadata": {},
   "outputs": [],
   "source": [
    "import h5py\n",
    "\n",
    "# Load data into memory\n",
    "with h5py.File(DATASET_PATH, mode='r', swmr=True) as fp:\n",
    "    X, y, activity = fp['X'][:], fp['y'][:], fp['activity'][:]"
   ]
  },
  {
   "cell_type": "code",
   "execution_count": 7,
   "id": "ede5bbfb-30e6-48c1-aa86-4834067eda68",
   "metadata": {},
   "outputs": [
    {
     "name": "stderr",
     "output_type": "stream",
     "text": [
      "[Parallel(n_jobs=2)]: Using backend LokyBackend with 2 concurrent workers.\n",
      "[Parallel(n_jobs=2)]: Done  10 out of  10 | elapsed:  8.6min finished\n"
     ]
    },
    {
     "data": {
      "text/plain": [
       "'              precision    recall  f1-score   support\\n\\n       False       1.00      0.99      0.99    955678\\n        True       0.96      0.99      0.98    319830\\n\\n    accuracy                           0.99   1275508\\n   macro avg       0.98      0.99      0.99   1275508\\nweighted avg       0.99      0.99      0.99   1275508\\n'"
      ]
     },
     "execution_count": 7,
     "metadata": {},
     "output_type": "execute_result"
    }
   ],
   "source": [
    "import xgboost as xgb\n",
    "from sklearn import model_selection, metrics\n",
    "\n",
    "activity_pred = model_selection.cross_val_predict(\n",
    "    estimator=xgb.XGBClassifier(random_state=SEED, n_jobs=32),\n",
    "    X=X,\n",
    "    y=activity,\n",
    "    cv=model_selection.StratifiedKFold(n_splits=10, shuffle=True, random_state=SEED),\n",
    "    n_jobs=2,\n",
    "    verbose=2,\n",
    ")\n",
    "\n",
    "metrics.classification_report(activity, activity_pred)"
   ]
  },
  {
   "cell_type": "code",
   "execution_count": 8,
   "id": "f1364e01-b635-4825-b54c-cf9fb03b4cd8",
   "metadata": {},
   "outputs": [
    {
     "data": {
      "text/plain": [
       "0.9901274326995686"
      ]
     },
     "execution_count": 8,
     "metadata": {},
     "output_type": "execute_result"
    }
   ],
   "source": [
    "metrics.roc_auc_score(activity, activity_pred)"
   ]
  },
  {
   "cell_type": "code",
   "execution_count": null,
   "id": "ba0ab69b-412c-4d2f-afca-e5cb82c9dc3f",
   "metadata": {},
   "outputs": [],
   "source": []
  }
 ],
 "metadata": {
  "kernelspec": {
   "display_name": "Python 3 (ipykernel)",
   "language": "python",
   "name": "python3"
  },
  "language_info": {
   "codemirror_mode": {
    "name": "ipython",
    "version": 3
   },
   "file_extension": ".py",
   "mimetype": "text/x-python",
   "name": "python",
   "nbconvert_exporter": "python",
   "pygments_lexer": "ipython3",
   "version": "3.11.6"
  }
 },
 "nbformat": 4,
 "nbformat_minor": 5
}
