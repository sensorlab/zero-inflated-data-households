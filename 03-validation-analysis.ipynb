{
 "cells": [
  {
   "cell_type": "code",
   "execution_count": 1,
   "id": "73650439-d59b-436a-9d17-cd7e73167351",
   "metadata": {},
   "outputs": [],
   "source": [
    "!mamba install -y -q pytorch=2.1.2 torchvision pytorch-cuda=12.1 scikit-learn h5py py-xgboost~=2.0 -c pytorch -c nvidia -c anaconda -c conda-forge\n",
    "!pip install -q lightning torchmetrics pyts"
   ]
  },
  {
   "cell_type": "code",
   "execution_count": 1,
   "id": "3be60345-0ac2-4cfd-bcc8-eb2c1e9a1ddf",
   "metadata": {},
   "outputs": [],
   "source": [
    "import h5py\n",
    "import numpy as np\n",
    "from pyts.image import RecurrencePlot\n",
    "from pathlib import Path\n",
    "\n",
    "import torch\n",
    "from torch import nn, Tensor\n",
    "from torch.nn import functional as F\n",
    "from torch.utils.data import DataLoader, random_split, Dataset, SubsetRandomSampler, Subset\n",
    "from torchvision import transforms as T\n",
    "from torchvision.models import vgg11\n",
    "import lightning as L\n",
    "import torchmetrics\n",
    "import pickle\n",
    "import joblib\n",
    "from sklearn.metrics import classification_report\n",
    "\n",
    "from scipy.special import expit\n",
    "from scipy.special import softmax"
   ]
  },
  {
   "cell_type": "code",
   "execution_count": 45,
   "id": "79cae1ea-5b83-48d9-9f89-ac3c2c224760",
   "metadata": {},
   "outputs": [],
   "source": [
    "report = joblib.load(\"./results.joblib\")\n",
    "labels = tuple(report['mapper'].keys())\n",
    "mapper = report[\"mapper\"]"
   ]
  },
  {
   "cell_type": "code",
   "execution_count": 46,
   "id": "2984523a-c393-4a7a-bc28-65e32d86a8c7",
   "metadata": {},
   "outputs": [],
   "source": [
    "# Sparse\n",
    "from sklearn.metrics import (\n",
    "    f1_score, accuracy_score, precision_score, recall_score, roc_auc_score\n",
    ")"
   ]
  },
  {
   "cell_type": "code",
   "execution_count": 47,
   "id": "c09a6575-9a48-48c5-839d-e824aef3bb2d",
   "metadata": {},
   "outputs": [
    {
     "name": "stdout",
     "output_type": "stream",
     "text": [
      "(1211732,) (1211732,) (1211732, 12)\n"
     ]
    },
    {
     "data": {
      "text/plain": [
       "{'accuracy': 0.5526329254323563,\n",
       " 'precision': 0.5937706105764643,\n",
       " 'recall': 0.5526329254323563,\n",
       " 'f1': 0.437083536639011,\n",
       " 'roc': 0.6612672917827535}"
      ]
     },
     "execution_count": 47,
     "metadata": {},
     "output_type": "execute_result"
    }
   ],
   "source": [
    "y_true_sparse = np.concatenate([fold[\"y_true\"] for fold in report[\"with-sparse\"]], axis=0)\n",
    "y_pred_sparse = np.concatenate([fold[\"y_pred\"] for fold in report[\"with-sparse\"]], axis=0)\n",
    "\n",
    "y_proba_sparse = np.concatenate([fold[\"y_proba\"].astype(np.float32) for fold in report[\"with-sparse\"]], axis=0)[:, :12]\n",
    "y_proba_sparse = softmax(y_proba_sparse, axis=1).astype(np.float32)\n",
    "\n",
    "print(y_true_sparse.shape, y_pred_sparse.shape, y_proba_sparse.shape)\n",
    "\n",
    "sparse = {\n",
    "    \"accuracy\": accuracy_score(y_true_sparse, y_pred_sparse),\n",
    "    \"precision\": precision_score(y_true_sparse, y_pred_sparse, average=\"weighted\"),\n",
    "    \"recall\": recall_score(y_true_sparse, y_pred_sparse, average=\"weighted\"),\n",
    "    \"f1\": f1_score(y_true_sparse, y_pred_sparse, average=\"weighted\"),\n",
    "    \"roc\": roc_auc_score(y_true_sparse, y_proba_sparse, average=\"weighted\", multi_class='ovr'),\n",
    "}; sparse"
   ]
  },
  {
   "cell_type": "code",
   "execution_count": 48,
   "id": "a8352a4b-1aab-42bf-9c71-a3a8a2fdde12",
   "metadata": {},
   "outputs": [
    {
     "name": "stdout",
     "output_type": "stream",
     "text": [
      "                  precision    recall  f1-score   support\n",
      "\n",
      "            HEKA     0.6583    0.0844    0.1496    113543\n",
      "            HTPC     0.5817    0.1220    0.2017     45410\n",
      "          boiler     0.6282    0.2348    0.3418     52289\n",
      "computer monitor     0.5510    0.0145    0.0283     57979\n",
      "desktop computer     0.7164    0.0282    0.0542     47890\n",
      "  fridge/freezer     0.8039    0.3981    0.5325     59178\n",
      " laptop computer     0.5722    0.0350    0.0659     59011\n",
      "           light     0.5422    0.9871    0.6999    612534\n",
      "       microwave     0.5674    0.0786    0.1381     53340\n",
      " server computer     0.5985    0.2464    0.3491      3920\n",
      "      television     0.5538    0.0598    0.1080     56246\n",
      "    washer dryer     0.8337    0.0248    0.0481     50392\n",
      "\n",
      "        accuracy                         0.5526   1211732\n",
      "       macro avg     0.6340    0.1928    0.2264   1211732\n",
      "    weighted avg     0.5938    0.5526    0.4371   1211732\n",
      "\n"
     ]
    }
   ],
   "source": [
    "print(classification_report(y_true_sparse, y_pred_sparse, digits=4, target_names=labels))"
   ]
  },
  {
   "cell_type": "code",
   "execution_count": 49,
   "id": "36c7d0f7-3dcb-4192-8441-f154211a98e5",
   "metadata": {},
   "outputs": [
    {
     "name": "stdout",
     "output_type": "stream",
     "text": [
      "(303838,) (303838,) (303838, 12)\n"
     ]
    },
    {
     "data": {
      "text/plain": [
       "{'accuracy': 0.8233005746483323,\n",
       " 'precision': 0.8253671057708207,\n",
       " 'recall': 0.8233005746483323,\n",
       " 'f1': 0.8211101653728601,\n",
       " 'roc': 0.9786187271098862}"
      ]
     },
     "execution_count": 49,
     "metadata": {},
     "output_type": "execute_result"
    }
   ],
   "source": [
    "y_true = np.concatenate([fold[\"y_true\"] for fold in report[\"without-sparse\"]], axis=0)\n",
    "y_pred = np.concatenate([fold[\"y_pred\"] for fold in report[\"without-sparse\"]], axis=0)\n",
    "y_proba = np.concatenate([fold[\"y_proba\"].astype(np.float32) for fold in report[\"without-sparse\"]], axis=0)[:, :12]\n",
    "print(y_true.shape, y_pred.shape, y_proba.shape)\n",
    "\n",
    "y_proba = softmax(y_proba, axis=1).astype(np.float32)\n",
    "\n",
    "nonsparse = {\n",
    "    \"accuracy\": accuracy_score(y_true, y_pred),\n",
    "    \"precision\": precision_score(y_true, y_pred, average=\"weighted\"),\n",
    "    \"recall\": recall_score(y_true, y_pred, average=\"weighted\"),\n",
    "    \"f1\": f1_score(y_true, y_pred, average=\"weighted\"),\n",
    "    \"roc\": roc_auc_score(y_true, y_proba, average=\"weighted\", multi_class='ovr'),\n",
    "}; nonsparse"
   ]
  },
  {
   "cell_type": "code",
   "execution_count": 50,
   "id": "0234a2e7-39b2-4370-965f-bfa9b4e73039",
   "metadata": {},
   "outputs": [
    {
     "name": "stdout",
     "output_type": "stream",
     "text": [
      "                  precision    recall  f1-score   support\n",
      "\n",
      "            HEKA     0.9663    0.8287    0.8922     14312\n",
      "            HTPC     0.7320    0.8651    0.7930     39558\n",
      "          boiler     0.8149    0.8058    0.8103     45742\n",
      "computer monitor     0.6198    0.5844    0.6016      9653\n",
      "desktop computer     0.7366    0.5390    0.6225      7462\n",
      "  fridge/freezer     0.9441    0.9737    0.9587     56039\n",
      " laptop computer     0.7052    0.6905    0.6978     12270\n",
      "           light     0.8333    0.8437    0.8385     85072\n",
      "       microwave     0.7513    0.8617    0.8027     10071\n",
      " server computer     0.8201    0.7297    0.7723      3774\n",
      "      television     0.7415    0.5863    0.6548     12723\n",
      "    washer dryer     0.9337    0.5364    0.6814      7162\n",
      "\n",
      "        accuracy                         0.8233    303838\n",
      "       macro avg     0.7999    0.7371    0.7605    303838\n",
      "    weighted avg     0.8254    0.8233    0.8211    303838\n",
      "\n"
     ]
    }
   ],
   "source": [
    "print(classification_report(y_true, y_pred, digits=4, target_names=labels))"
   ]
  },
  {
   "cell_type": "code",
   "execution_count": 67,
   "id": "6818a18d-f60d-4cf7-9471-7582132b6278",
   "metadata": {},
   "outputs": [
    {
     "name": "stdout",
     "output_type": "stream",
     "text": [
      "HEKA & 0.6583 & 0.0844 & 0.1496 & 0.6230 && 0.9663 & 0.8287 & 0.8922 & 0.9933 \\\\\n",
      "HTPC & 0.5817 & 0.1220 & 0.2017 & 0.7788 && 0.7320 & 0.8651 & 0.7930 & 0.9768 \\\\\n",
      "boiler & 0.6282 & 0.2348 & 0.3418 & 0.7833 && 0.8149 & 0.8058 & 0.8103 & 0.9754 \\\\\n",
      "computer monitor & 0.5510 & 0.0145 & 0.0283 & 0.6350 && 0.6198 & 0.5844 & 0.6016 & 0.9749 \\\\\n",
      "desktop computer & 0.7164 & 0.0282 & 0.0542 & 0.6351 && 0.7366 & 0.5390 & 0.6225 & 0.9739 \\\\\n",
      "fridge/freezer & 0.8039 & 0.3981 & 0.5325 & 0.8461 && 0.9441 & 0.9737 & 0.9587 & 0.9975 \\\\\n",
      "laptop computer & 0.5722 & 0.0350 & 0.0659 & 0.6307 && 0.7052 & 0.6905 & 0.6978 & 0.9796 \\\\\n",
      "light & 0.5422 & 0.9871 & 0.6999 & 0.6308 && 0.8333 & 0.8437 & 0.8385 & 0.9679 \\\\\n",
      "microwave & 0.5674 & 0.0786 & 0.1381 & 0.6400 && 0.7513 & 0.8617 & 0.8027 & 0.9933 \\\\\n",
      "server computer & 0.5985 & 0.2464 & 0.3491 & 0.8407 && 0.8201 & 0.7297 & 0.7723 & 0.9920 \\\\\n",
      "television & 0.5538 & 0.0598 & 0.1080 & 0.7848 && 0.7415 & 0.5863 & 0.6548 & 0.9641 \\\\\n",
      "washer dryer & 0.8337 & 0.0248 & 0.0481 & 0.6296 && 0.9337 & 0.5364 & 0.6814 & 0.9646 \\\\\n",
      "\\midrule\n",
      "Weighted avg. & 0.5938 & 0.5526 & 0.4371 & 0.6613 && 0.8254 & 0.8233 & 0.8211 & 0.9786 \n",
      "\\\\\\bottomrule\n"
     ]
    }
   ],
   "source": [
    "from sklearn.metrics import precision_score, recall_score, f1_score, roc_auc_score\n",
    "\n",
    "precision_sparse = precision_score(y_true_sparse, y_pred_sparse, average=None)\n",
    "recall_sparse = recall_score(y_true_sparse, y_pred_sparse, average=None)\n",
    "f1_sparse = f1_score(y_true_sparse, y_pred_sparse, average=None)\n",
    "roc_sparse = roc_auc_score(y_true_sparse, y_proba_sparse, multi_class='ovr', average=None)\n",
    "\n",
    "precision = precision_score(y_true, y_pred, average=None)\n",
    "recall = recall_score(y_true, y_pred, average=None)\n",
    "f1 = f1_score(y_true, y_pred, average=None)\n",
    "roc = roc_auc_score(y_true, y_proba, multi_class='ovr', average=None)\n",
    "\n",
    "\n",
    "precision_avg = precision_score(y_true, y_pred, average='weighted')\n",
    "recall_avg = recall_score(y_true, y_pred, average='weighted')\n",
    "f1_avg = f1_score(y_true, y_pred, average='weighted')\n",
    "roc_avg = roc_auc_score(y_true, y_proba, multi_class='ovr', average='weighted')\n",
    "\n",
    "precision_sparse_avg = precision_score(y_true_sparse, y_pred_sparse, average='weighted')\n",
    "recall_sparse_avg = recall_score(y_true_sparse, y_pred_sparse, average='weighted')\n",
    "f1_sparse_avg = f1_score(y_true_sparse, y_pred_sparse, average='weighted')\n",
    "roc_sparse_avg = roc_auc_score(y_true_sparse, y_proba_sparse, multi_class='ovr', average='weighted')\n",
    "\n",
    "\n",
    "for label, idx in mapper.items():\n",
    "    print(\n",
    "        f\"{label} & {precision_sparse[idx]:.4f} & {recall_sparse[idx]:.4f} & {f1_sparse[idx]:.4f} & {roc_sparse[idx]:.4f} && \"\n",
    "        f\"{precision[idx]:.4f} & {recall[idx]:.4f} & {f1[idx]:.4f} & {roc[idx]:.4f} \\\\\\\\\"\n",
    "    )\n",
    "    \n",
    "\n",
    "    \n",
    "print(\n",
    "    \"\\\\midrule\\n\"\n",
    "    f\"Weighted avg. \"\n",
    "    f\"& {precision_sparse_avg:.4f} \"\n",
    "    f\"& {recall_sparse_avg:.4f} \"\n",
    "    f\"& {f1_sparse_avg:.4f} \"\n",
    "    f\"& {roc_sparse_avg:.4f} \"\n",
    "    f\"&\"\n",
    "    f\"& {precision_avg:.4f} \"\n",
    "    f\"& {recall_avg:.4f} \"\n",
    "    f\"& {f1_avg:.4f} \"\n",
    "    f\"& {roc_avg:.4f} \"\n",
    "    \"\\n\\\\\\\\\\\\bottomrule\"\n",
    ")\n",
    "    "
   ]
  },
  {
   "cell_type": "code",
   "execution_count": 71,
   "id": "6a7497a6-82d3-43fa-b101-cefcf5d85f7e",
   "metadata": {},
   "outputs": [
    {
     "data": {
      "text/plain": [
       "(0.2316, 0.2707, 0.384)"
      ]
     },
     "execution_count": 71,
     "metadata": {},
     "output_type": "execute_result"
    }
   ],
   "source": [
    "precision_avg - precision_sparse_avg\n",
    "#for label, diff in zip(labels, precision - precision_sparse):\n",
    "#print(label, np.round(diff, 4))\n",
    "\n",
    "np.round(precision_avg - precision_sparse_avg, 4), np.round(recall_avg - recall_sparse_avg, 4), np.round(f1_avg - f1_sparse_avg, 4)"
   ]
  },
  {
   "cell_type": "code",
   "execution_count": 78,
   "id": "589a2d1e-1fd8-4ed4-9c07-b61bce3aca3c",
   "metadata": {},
   "outputs": [
    {
     "name": "stdout",
     "output_type": "stream",
     "text": [
      "HEKA 4.9629\n",
      "HTPC 2.9315\n",
      "boiler 1.3709\n",
      "computer monitor 20.2578\n",
      "desktop computer 10.484\n",
      "fridge/freezer 0.8002\n",
      "laptop computer 9.5849\n",
      "light 0.198\n",
      "microwave 4.8133\n",
      "server computer 1.2122\n",
      "television 5.0651\n",
      "washer dryer 13.1653\n"
     ]
    }
   ],
   "source": [
    "for label, prev, now in zip(labels, f1_sparse, f1):\n",
    "    print(label, np.round((now - prev) / prev, 4))"
   ]
  },
  {
   "cell_type": "code",
   "execution_count": 81,
   "id": "248b5486-d642-4575-aae4-89530925ab62",
   "metadata": {},
   "outputs": [
    {
     "name": "stdout",
     "output_type": "stream",
     "text": [
      "0.39\n",
      "0.4898\n",
      "0.8786\n",
      "0.4799\n"
     ]
    }
   ],
   "source": [
    "for prev, now in zip([precision_sparse_avg, recall_sparse_avg, f1_sparse_avg, roc_sparse_avg], [precision_avg, recall_avg, f1_avg, roc_avg]):\n",
    "    print(np.round((now - prev) / prev, 4))"
   ]
  },
  {
   "cell_type": "code",
   "execution_count": 9,
   "id": "75fb1c7e-6a0c-4e2b-8473-9198839d30fb",
   "metadata": {},
   "outputs": [],
   "source": [
    "#_y_proba = expit(y_proba)\n",
    "#row_sums = np.sum(_y_proba, axis=1) # normalization\n",
    "#row_sums[row_sums == 0] = 1e-12\n",
    "#row_sums = np.repeat(row_sums.reshape(-1, 1), 1000, axis=-1)\n",
    "#_y_proba = _y_proba / row_sums # these should be histograms"
   ]
  },
  {
   "cell_type": "code",
   "execution_count": 10,
   "id": "b56b87ae-5c36-4115-ba8f-537994301b5f",
   "metadata": {},
   "outputs": [
    {
     "name": "stdout",
     "output_type": "stream",
     "text": [
      "accuracy: 1.4898\n",
      "precision: 1.3900\n",
      "recall: 1.4898\n",
      "f1: 1.8786\n",
      "roc: 1.4799\n"
     ]
    }
   ],
   "source": [
    "for key in sparse:\n",
    "    print(f\"{key}: {nonsparse[key] / sparse[key]:.4f}\")"
   ]
  },
  {
   "cell_type": "code",
   "execution_count": 11,
   "id": "ea219339-1838-4455-aac2-f2e20fe6bc96",
   "metadata": {},
   "outputs": [],
   "source": [
    "#y_proba[:, y_true].shape"
   ]
  },
  {
   "cell_type": "code",
   "execution_count": 12,
   "id": "27821ca4-09ee-414f-8fb1-be8d12f5d527",
   "metadata": {},
   "outputs": [],
   "source": [
    "scores_sparse = [accuracy_score(fold[\"y_true\"], fold[\"y_pred\"]) for fold in report[\"with-sparse\"]]\n",
    "scores = [accuracy_score(fold[\"y_true\"], fold[\"y_pred\"]) for fold in report[\"without-sparse\"]]"
   ]
  },
  {
   "cell_type": "code",
   "execution_count": 20,
   "id": "7c49e952-e3d9-4f6a-bf7f-466c6585d379",
   "metadata": {},
   "outputs": [
    {
     "data": {
      "text/plain": [
       "[0.5151154039136979,\n",
       " 0.5080280983442047,\n",
       " 0.5020070245860512,\n",
       " 0.5081378575012544,\n",
       " 0.564350225790266,\n",
       " 0.6142122428499749,\n",
       " 0.6165642247867537,\n",
       " 0.5054488435907487,\n",
       " 0.5925519404155233,\n",
       " 0.5061074088592709,\n",
       " 0.5025950607604861,\n",
       " 0.6046569972559781,\n",
       " 0.5049157193257546,\n",
       " 0.578047824382595,\n",
       " 0.617530380243042,\n",
       " 0.6232693061544492,\n",
       " 0.5042885143081145,\n",
       " 0.5069698157585261,\n",
       " 0.6252293218345747]"
      ]
     },
     "execution_count": 20,
     "metadata": {},
     "output_type": "execute_result"
    }
   ],
   "source": [
    "scores_sparse"
   ]
  },
  {
   "cell_type": "code",
   "execution_count": 21,
   "id": "da8147bf-7ff2-4102-89a3-908724fba84b",
   "metadata": {},
   "outputs": [
    {
     "data": {
      "text/plain": [
       "[0.8301650825412706,\n",
       " 0.8212231115557779,\n",
       " 0.8400450225112557,\n",
       " 0.8189719859929965,\n",
       " 0.8329789894947474,\n",
       " 0.8168459229614807,\n",
       " 0.8244122061030515,\n",
       " 0.8193471735867934,\n",
       " 0.8268509254627313,\n",
       " 0.8141454568194609,\n",
       " 0.8371584016009005,\n",
       " 0.8242761553373773,\n",
       " 0.8310299543493215,\n",
       " 0.8300919267087736,\n",
       " 0.8135201050590958,\n",
       " 0.8087048965042837,\n",
       " 0.8150834844600088,\n",
       " 0.8256519292101807,\n",
       " 0.8122068663623289]"
      ]
     },
     "execution_count": 21,
     "metadata": {},
     "output_type": "execute_result"
    }
   ],
   "source": [
    "scores"
   ]
  },
  {
   "cell_type": "code",
   "execution_count": 19,
   "id": "8ce6f96d-746d-4437-836e-de68535e1e0a",
   "metadata": {},
   "outputs": [
    {
     "data": {
      "text/plain": [
       "3.814697265625e-06"
      ]
     },
     "execution_count": 19,
     "metadata": {},
     "output_type": "execute_result"
    }
   ],
   "source": [
    "from scipy.stats import wilcoxon\n",
    "\n",
    "# Calculate p value\n",
    "stat, p = wilcoxon(scores, scores_sparse, zero_method='zsplit'); p"
   ]
  },
  {
   "cell_type": "code",
   "execution_count": null,
   "id": "c55c8f27-46e7-45e8-bb10-9c3e36f28910",
   "metadata": {},
   "outputs": [],
   "source": []
  }
 ],
 "metadata": {
  "kernelspec": {
   "display_name": "Python 3 (ipykernel)",
   "language": "python",
   "name": "python3"
  },
  "language_info": {
   "codemirror_mode": {
    "name": "ipython",
    "version": 3
   },
   "file_extension": ".py",
   "mimetype": "text/x-python",
   "name": "python",
   "nbconvert_exporter": "python",
   "pygments_lexer": "ipython3",
   "version": "3.11.6"
  }
 },
 "nbformat": 4,
 "nbformat_minor": 5
}
